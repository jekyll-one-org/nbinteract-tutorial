{
 "cells": [
  {
   "cell_type": "code",
   "execution_count": 2,
   "metadata": {},
   "outputs": [],
   "source": [
    "# HIDDEN\n",
    "import numpy as np\n",
    "np.set_printoptions(threshold=999)\n",
    "np.random.seed(64)"
   ]
  },
  {
   "cell_type": "markdown",
   "metadata": {},
   "source": [
    "# nbinteract"
   ]
  },
  {
   "cell_type": "markdown",
   "metadata": {},
   "source": [
    "`nbinteract` is a Python package that provides a command-line tool to generate interactive web pages from Jupyter notebooks. It allows [Jupyter widgets][widgets] to remain interactive even when the notebook is converted to static HTML by using [Binder servers][binder] as the computational backend.\n",
    "\n",
    "`nbinteract` also provides Python functions for simple, interactive plots. These interactions are driven by data, not callbacks, allowing authors to focus on the logic of their programs.\n",
    "\n",
    "`nbinteract` is useful for:\n",
    "\n",
    "- Data scientists that want to create simple interactive blog posts without having\n",
    "  to know / work with Javascript.\n",
    "- Instructors that want to include interactive examples in their textbooks.\n",
    "- Students that want to publish data analysis that contains interactive demos.\n",
    "\n",
    "[widgets]: https://github.com/jupyter-widgets/ipywidgets/\n",
    "[binder]: http://mybinder.org/"
   ]
  },
  {
   "cell_type": "markdown",
   "metadata": {},
   "source": [
    "## Converting Notebooks"
   ]
  },
  {
   "cell_type": "markdown",
   "metadata": {},
   "source": [
    "From the command line:\n",
    "\n",
    "```bash\n",
    "# Run on the command line to convert the notebook into a publishable HTML page.\n",
    "#\n",
    "# nbinteract {NOTEBOOK.ipynb} -s {BINDER_SPEC}\n",
    "#\n",
    "# Replace {BINDER_SPEC} with a Binder spec in the format\n",
    "# {username}/{repo}/{branch} (e.g. SamLau95/nbinteract-image/master).\n",
    "# The branch is optional; if omitted, defaults to `main`\n",
    "#\n",
    "# Replace {NOTEBOOK.ipynb} with the name of the notebook file to convert.\n",
    "#\n",
    "# For example:\n",
    "nbinteract homepage.ipynb -s SamLau95/nbinteract-image\n",
    "```"
   ]
  },
  {
   "cell_type": "markdown",
   "metadata": {},
   "source": [
    "After initializing a GitHub repo and running `nbinteract init`, you may omit the Binder spec and simply write:\n",
    "\n",
    "```bash\n",
    "nbinteract homepage.ipynb\n",
    "```"
   ]
  },
  {
   "cell_type": "markdown",
   "metadata": {},
   "source": [
    "For more information on Binder specs and conversion, see the [tutorial][] which has a complete walkthrough on publishing a notebook to the web.\n",
    "\n",
    "[tutorial]: /tutorial/tutorial_intro.html"
   ]
  },
  {
   "cell_type": "markdown",
   "metadata": {},
   "source": [
    "## Plotting"
   ]
  },
  {
   "cell_type": "markdown",
   "metadata": {},
   "source": [
    "Most plotting functions from other libraries (e.g. `matplotlib`) take data as input. `nbinteract`'s plotting methods instead take in functions that return data.\n",
    "\n",
    "In the example below, the `normal` function generates data that we then plot using `nbi.hist()`."
   ]
  },
  {
   "cell_type": "code",
   "execution_count": 3,
   "metadata": {},
   "outputs": [
    {
     "data": {
      "text/plain": [
       "array([11.10032294,  8.01737258,  8.84975049, ...,  9.86721442,\n",
       "       11.06511688, 10.88371858])"
      ]
     },
     "execution_count": 3,
     "metadata": {},
     "output_type": "execute_result"
    }
   ],
   "source": [
    "import numpy as np\n",
    "import nbinteract as nbi\n",
    "\n",
    "def normal(mean, sd):\n",
    "    '''Returns 1000 points drawn at random fron N(mean, sd)'''\n",
    "    return np.random.normal(mean, sd, 1000)\n",
    "\n",
    "normal(10, 1.0)"
   ]
  },
  {
   "cell_type": "code",
   "execution_count": 4,
   "metadata": {
    "scrolled": false
   },
   "outputs": [
    {
     "data": {
      "application/vnd.jupyter.widget-view+json": {
       "model_id": "a3cfc7ba80a24fb2ab73c0327fc10842",
       "version_major": 2,
       "version_minor": 0
      },
      "text/plain": [
       "VBox(children=(interactive(children=(IntSlider(value=5, description='mean', max=10), FloatSlider(value=1.0, de…"
      ]
     },
     "metadata": {},
     "output_type": "display_data"
    }
   ],
   "source": [
    "# Plot aesthetics\n",
    "options = {\n",
    "    'xlim': (-2, 12),\n",
    "    'ylim': (0, 0.7),\n",
    "    'bins': 20\n",
    "}\n",
    "\n",
    "# Pass in the `normal` function and let user change mean and sd.\n",
    "# Whenever the user interacts with the sliders, the `normal` function\n",
    "# is called and the returned data are plotted.\n",
    "nbi.hist(normal, mean=(0, 10), sd=(0, 2.0), options=options)\n",
    "\n",
    "# Clicking the Show widget button below loads all widgets on the page.\n",
    "# Widgets will automatically load for all subsequent pages until you close\n",
    "# the tab/window."
   ]
  },
  {
   "cell_type": "markdown",
   "metadata": {},
   "source": [
    "Simulations are easy to create using `nbinteract`. In this simulation, we roll a die and plot the running average of the rolls. We can see that with more rolls, the average gets closer to the expected value: 3.5."
   ]
  },
  {
   "cell_type": "code",
   "execution_count": 5,
   "metadata": {},
   "outputs": [],
   "source": [
    "rolls = np.random.choice([1, 2, 3, 4, 5, 6], size=300)\n",
    "averages = np.cumsum(rolls) / np.arange(1, 301)\n",
    "\n",
    "def x_vals(num_rolls):\n",
    "    return range(num_rolls)\n",
    "\n",
    "# The function to generate y-values gets called with the\n",
    "# x-values as its first argument.\n",
    "def y_vals(xs):\n",
    "    return averages[:len(xs)]"
   ]
  },
  {
   "cell_type": "code",
   "execution_count": 6,
   "metadata": {},
   "outputs": [
    {
     "data": {
      "application/vnd.jupyter.widget-view+json": {
       "model_id": "8e099c4c96cb48f7828ba44d471f5fab",
       "version_major": 2,
       "version_minor": 0
      },
      "text/plain": [
       "VBox(children=(interactive(children=(IntSlider(value=150, description='num_rolls', max=300, min=1), Output()),…"
      ]
     },
     "metadata": {},
     "output_type": "display_data"
    }
   ],
   "source": [
    "nbi.line(x_vals, y_vals, num_rolls=(1, 300))"
   ]
  },
  {
   "cell_type": "markdown",
   "metadata": {},
   "source": [
    "## Installation\n",
    "\n",
    "Using `pip`:\n",
    "\n",
    "```bash\n",
    "pip install nbinteract\n",
    "\n",
    "# The next two lines can be skipped for notebook version 5.3 and above\n",
    "jupyter nbextension enable --py --sys-prefix widgetsnbextension\n",
    "jupyter nbextension enable --py --sys-prefix bqplot\n",
    "```\n",
    "\n",
    "You may now import the `nbinteract` package in Python code and use the `nbinteract` CLI command to convert notebooks to HTML pages."
   ]
  },
  {
   "cell_type": "markdown",
   "metadata": {},
   "source": [
    "## Documentation\n",
    "\n",
    "Access the tutorials, examples, and documentation for `nbinteract` using the links in the sidebar."
   ]
  },
  {
   "cell_type": "markdown",
   "metadata": {},
   "source": [
    "## Feedback\n",
    "\n",
    "If you have any questions or comments, send us a message on the [Gitter channel]. We appreciate your feedback! \n",
    "\n",
    "[Gitter channel]: https://gitter.im/nbinteract/Lobby/"
   ]
  }
 ],
 "metadata": {
  "kernelspec": {
   "display_name": "Python 3",
   "language": "python",
   "name": "python3"
  },
  "language_info": {
   "codemirror_mode": {
    "name": "ipython",
    "version": 3
   },
   "file_extension": ".py",
   "mimetype": "text/x-python",
   "name": "python",
   "nbconvert_exporter": "python",
   "pygments_lexer": "ipython3",
   "version": "3.7.3"
  }
 },
 "nbformat": 4,
 "nbformat_minor": 2
}
